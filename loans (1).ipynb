{
 "cells": [
  {
   "cell_type": "code",
   "execution_count": 429,
   "metadata": {},
   "outputs": [],
   "source": [
    "import pandas as pd\n",
    "import numpy as np\n",
    "import statsmodels.api as sm\n",
    "from statsmodels.stats.outliers_influence import variance_inflation_factor\n",
    "from sklearn.preprocessing import StandardScaler\n",
    "import matplotlib.pyplot as plt\n",
    "import seaborn as sns\n",
    "import numpy as np\n",
    "from sklearn.metrics import roc_curve\n",
    "from sklearn.metrics import roc_auc_score"
   ]
  },
  {
   "cell_type": "code",
   "execution_count": 430,
   "metadata": {},
   "outputs": [
    {
     "name": "stderr",
     "output_type": "stream",
     "text": [
      "/var/folders/25/qdj6v0q16nj947n0zplvjg5r0000gp/T/ipykernel_10645/2045478829.py:1: DtypeWarning: Columns (137) have mixed types. Specify dtype option on import or set low_memory=False.\n",
      "  df = pd.read_csv('loan_2019_20.csv')\n"
     ]
    },
    {
     "data": {
      "text/html": [
       "<div>\n",
       "<style scoped>\n",
       "    .dataframe tbody tr th:only-of-type {\n",
       "        vertical-align: middle;\n",
       "    }\n",
       "\n",
       "    .dataframe tbody tr th {\n",
       "        vertical-align: top;\n",
       "    }\n",
       "\n",
       "    .dataframe thead th {\n",
       "        text-align: right;\n",
       "    }\n",
       "</style>\n",
       "<table border=\"1\" class=\"dataframe\">\n",
       "  <thead>\n",
       "    <tr style=\"text-align: right;\">\n",
       "      <th></th>\n",
       "      <th>Unnamed: 0</th>\n",
       "      <th>id</th>\n",
       "      <th>loan_amnt</th>\n",
       "      <th>funded_amnt</th>\n",
       "      <th>funded_amnt_inv</th>\n",
       "      <th>term</th>\n",
       "      <th>int_rate</th>\n",
       "      <th>installment</th>\n",
       "      <th>grade</th>\n",
       "      <th>sub_grade</th>\n",
       "      <th>...</th>\n",
       "      <th>hardship_start_date</th>\n",
       "      <th>hardship_end_date</th>\n",
       "      <th>payment_plan_start_date</th>\n",
       "      <th>hardship_length</th>\n",
       "      <th>hardship_dpd</th>\n",
       "      <th>hardship_loan_status</th>\n",
       "      <th>orig_projected_additional_accrued_interest</th>\n",
       "      <th>hardship_payoff_balance_amount</th>\n",
       "      <th>hardship_last_payment_amount</th>\n",
       "      <th>debt_settlement_flag</th>\n",
       "    </tr>\n",
       "  </thead>\n",
       "  <tbody>\n",
       "    <tr>\n",
       "      <th>0</th>\n",
       "      <td>0</td>\n",
       "      <td>149203043</td>\n",
       "      <td>24000.0</td>\n",
       "      <td>24000.0</td>\n",
       "      <td>24000.0</td>\n",
       "      <td>60 months</td>\n",
       "      <td>13.90%</td>\n",
       "      <td>557.20</td>\n",
       "      <td>C</td>\n",
       "      <td>C1</td>\n",
       "      <td>...</td>\n",
       "      <td>Apr-2020</td>\n",
       "      <td>Jun-2020</td>\n",
       "      <td>Apr-2020</td>\n",
       "      <td>2.0</td>\n",
       "      <td>0.0</td>\n",
       "      <td>ACTIVE</td>\n",
       "      <td>473.24</td>\n",
       "      <td>20656.42</td>\n",
       "      <td>557.2</td>\n",
       "      <td>N</td>\n",
       "    </tr>\n",
       "    <tr>\n",
       "      <th>1</th>\n",
       "      <td>1</td>\n",
       "      <td>149354242</td>\n",
       "      <td>18500.0</td>\n",
       "      <td>18500.0</td>\n",
       "      <td>18500.0</td>\n",
       "      <td>60 months</td>\n",
       "      <td>14.74%</td>\n",
       "      <td>437.60</td>\n",
       "      <td>C</td>\n",
       "      <td>C2</td>\n",
       "      <td>...</td>\n",
       "      <td>NaN</td>\n",
       "      <td>NaN</td>\n",
       "      <td>NaN</td>\n",
       "      <td>NaN</td>\n",
       "      <td>NaN</td>\n",
       "      <td>NaN</td>\n",
       "      <td>NaN</td>\n",
       "      <td>NaN</td>\n",
       "      <td>NaN</td>\n",
       "      <td>N</td>\n",
       "    </tr>\n",
       "    <tr>\n",
       "      <th>2</th>\n",
       "      <td>2</td>\n",
       "      <td>149355875</td>\n",
       "      <td>24000.0</td>\n",
       "      <td>24000.0</td>\n",
       "      <td>24000.0</td>\n",
       "      <td>36 months</td>\n",
       "      <td>8.19%</td>\n",
       "      <td>754.18</td>\n",
       "      <td>A</td>\n",
       "      <td>A4</td>\n",
       "      <td>...</td>\n",
       "      <td>NaN</td>\n",
       "      <td>NaN</td>\n",
       "      <td>NaN</td>\n",
       "      <td>NaN</td>\n",
       "      <td>NaN</td>\n",
       "      <td>NaN</td>\n",
       "      <td>NaN</td>\n",
       "      <td>NaN</td>\n",
       "      <td>NaN</td>\n",
       "      <td>N</td>\n",
       "    </tr>\n",
       "    <tr>\n",
       "      <th>3</th>\n",
       "      <td>3</td>\n",
       "      <td>149437986</td>\n",
       "      <td>2800.0</td>\n",
       "      <td>2800.0</td>\n",
       "      <td>2775.0</td>\n",
       "      <td>36 months</td>\n",
       "      <td>8.19%</td>\n",
       "      <td>87.99</td>\n",
       "      <td>A</td>\n",
       "      <td>A4</td>\n",
       "      <td>...</td>\n",
       "      <td>NaN</td>\n",
       "      <td>NaN</td>\n",
       "      <td>NaN</td>\n",
       "      <td>NaN</td>\n",
       "      <td>NaN</td>\n",
       "      <td>NaN</td>\n",
       "      <td>NaN</td>\n",
       "      <td>NaN</td>\n",
       "      <td>NaN</td>\n",
       "      <td>N</td>\n",
       "    </tr>\n",
       "    <tr>\n",
       "      <th>4</th>\n",
       "      <td>4</td>\n",
       "      <td>149511512</td>\n",
       "      <td>8800.0</td>\n",
       "      <td>8800.0</td>\n",
       "      <td>8800.0</td>\n",
       "      <td>36 months</td>\n",
       "      <td>20.00%</td>\n",
       "      <td>327.04</td>\n",
       "      <td>D</td>\n",
       "      <td>D2</td>\n",
       "      <td>...</td>\n",
       "      <td>NaN</td>\n",
       "      <td>NaN</td>\n",
       "      <td>NaN</td>\n",
       "      <td>NaN</td>\n",
       "      <td>NaN</td>\n",
       "      <td>NaN</td>\n",
       "      <td>NaN</td>\n",
       "      <td>NaN</td>\n",
       "      <td>NaN</td>\n",
       "      <td>N</td>\n",
       "    </tr>\n",
       "  </tbody>\n",
       "</table>\n",
       "<p>5 rows × 142 columns</p>\n",
       "</div>"
      ],
      "text/plain": [
       "   Unnamed: 0         id  loan_amnt  funded_amnt  funded_amnt_inv        term  \\\n",
       "0           0  149203043    24000.0      24000.0          24000.0   60 months   \n",
       "1           1  149354242    18500.0      18500.0          18500.0   60 months   \n",
       "2           2  149355875    24000.0      24000.0          24000.0   36 months   \n",
       "3           3  149437986     2800.0       2800.0           2775.0   36 months   \n",
       "4           4  149511512     8800.0       8800.0           8800.0   36 months   \n",
       "\n",
       "  int_rate  installment grade sub_grade  ... hardship_start_date  \\\n",
       "0   13.90%       557.20     C        C1  ...            Apr-2020   \n",
       "1   14.74%       437.60     C        C2  ...                 NaN   \n",
       "2    8.19%       754.18     A        A4  ...                 NaN   \n",
       "3    8.19%        87.99     A        A4  ...                 NaN   \n",
       "4   20.00%       327.04     D        D2  ...                 NaN   \n",
       "\n",
       "  hardship_end_date payment_plan_start_date  hardship_length hardship_dpd  \\\n",
       "0          Jun-2020                Apr-2020              2.0          0.0   \n",
       "1               NaN                     NaN              NaN          NaN   \n",
       "2               NaN                     NaN              NaN          NaN   \n",
       "3               NaN                     NaN              NaN          NaN   \n",
       "4               NaN                     NaN              NaN          NaN   \n",
       "\n",
       "  hardship_loan_status orig_projected_additional_accrued_interest  \\\n",
       "0               ACTIVE                                     473.24   \n",
       "1                  NaN                                        NaN   \n",
       "2                  NaN                                        NaN   \n",
       "3                  NaN                                        NaN   \n",
       "4                  NaN                                        NaN   \n",
       "\n",
       "  hardship_payoff_balance_amount hardship_last_payment_amount  \\\n",
       "0                       20656.42                        557.2   \n",
       "1                            NaN                          NaN   \n",
       "2                            NaN                          NaN   \n",
       "3                            NaN                          NaN   \n",
       "4                            NaN                          NaN   \n",
       "\n",
       "  debt_settlement_flag  \n",
       "0                    N  \n",
       "1                    N  \n",
       "2                    N  \n",
       "3                    N  \n",
       "4                    N  \n",
       "\n",
       "[5 rows x 142 columns]"
      ]
     },
     "execution_count": 430,
     "metadata": {},
     "output_type": "execute_result"
    }
   ],
   "source": [
    "df = pd.read_csv('loan_2019_20.csv')\n",
    "df.head()"
   ]
  },
  {
   "cell_type": "markdown",
   "metadata": {},
   "source": [
    "# 1. Data cleaning"
   ]
  },
  {
   "cell_type": "markdown",
   "metadata": {},
   "source": [
    "### 1.1. Delete all unnecessary columns"
   ]
  },
  {
   "cell_type": "code",
   "execution_count": 431,
   "metadata": {},
   "outputs": [],
   "source": [
    "columns_to_drop = [\n",
    "    'loan_amnt',\n",
    "    'funded_amnt_inv',\n",
    "    'installment',\n",
    "    'sub_grade',\n",
    "    'verification_status',\n",
    "    'issue_d',\n",
    "    'pymnt_plan',\n",
    "    'url',\n",
    "    'title',\n",
    "    'zip_code',\n",
    "    'earliest_cr_line',\n",
    "    'fico_range_low',\n",
    "    'fico_range_high',\n",
    "    'inq_last_6mths',\n",
    "    'mths_since_last_delinq',\n",
    "    'mths_since_last_record',\n",
    "    'revol_util',\n",
    "    'initial_list_status',\n",
    "    'out_prncp',\n",
    "    'out_prncp_inv',\n",
    "    'total_pymnt',\n",
    "    'total_pymnt_inv',\n",
    "    'total_rec_prncp',\n",
    "    'total_rec_int',\n",
    "    'total_rec_late_fee',\n",
    "    'recoveries',\n",
    "    'collection_recovery_fee',\n",
    "    'last_pymnt_d',\n",
    "    'last_pymnt_amnt',\n",
    "    'next_pymnt_d',\n",
    "    'last_credit_pull_d',\n",
    "    'last_fico_range_high',\n",
    "    'collections_12_mths_ex_med',\n",
    "    'mths_since_last_major_derog',\n",
    "    'policy_code',\n",
    "    'annual_inc_joint',\n",
    "    'dti_joint',\n",
    "    'verification_status_joint',\n",
    "    'acc_now_delinq',\n",
    "    'tot_coll_amt',\n",
    "    'open_acc_6m',\n",
    "    'open_act_il',\n",
    "    'open_il_12m',\n",
    "    'open_il_24m',\n",
    "    'mths_since_rcnt_il',\n",
    "    'total_bal_il',\n",
    "    'il_util',\n",
    "    'open_rv_12m',\n",
    "    'open_rv_24m',\n",
    "    'max_bal_bc',\n",
    "    'all_util',\n",
    "    'total_rev_hi_lim',\n",
    "    'inq_fi',\n",
    "    'total_cu_tl',\n",
    "    'inq_last_12m',\n",
    "    'acc_open_past_24mths',\n",
    "    'avg_cur_bal',\n",
    "    'bc_open_to_buy',\n",
    "    'bc_util',\n",
    "    'chargeoff_within_12_mths',\n",
    "    'delinq_amnt',\n",
    "    'mo_sin_old_il_acct',\n",
    "    'mo_sin_old_rev_tl_op',\n",
    "    'mo_sin_rcnt_rev_tl_op',\n",
    "    'mo_sin_rcnt_tl',\n",
    "    'mths_since_recent_bc',\n",
    "    'mths_since_recent_bc_dlq',\n",
    "    'mths_since_recent_inq',\n",
    "    'mths_since_recent_revol_delinq',\n",
    "    'num_accts_ever_120_pd',\n",
    "    'num_actv_rev_tl',\n",
    "    'num_op_rev_tl',\n",
    "    'num_rev_accts',\n",
    "    'num_rev_tl_bal_gt_0',\n",
    "    'num_sats',\n",
    "    'num_tl_120dpd_2m',\n",
    "    'num_tl_30dpd',\n",
    "    'num_tl_90g_dpd_24m',\n",
    "    'num_tl_op_past_12m',\n",
    "    'tax_liens',\n",
    "    'tot_hi_cred_lim',\n",
    "    'total_bal_ex_mort',\n",
    "    'total_bc_limit',\n",
    "    'revol_bal_joint',\n",
    "    'sec_app_fico_range_low',\n",
    "    'sec_app_fico_range_high',\n",
    "    'sec_app_earliest_cr_line',\n",
    "    'sec_app_inq_last_6mths',\n",
    "    'sec_app_mort_acc',\n",
    "    'sec_app_open_acc',\n",
    "    'sec_app_revol_util',\n",
    "    'sec_app_open_act_il',\n",
    "    'sec_app_num_rev_accts',\n",
    "    'sec_app_chargeoff_within_12_mths',\n",
    "    'sec_app_collections_12_mths_ex_med',\n",
    "    'hardship_flag',\n",
    "    'hardship_type',\n",
    "    'hardship_reason',\n",
    "    'hardship_status',\n",
    "    'deferral_term',\n",
    "    'hardship_amount',\n",
    "    'hardship_start_date',\n",
    "    'hardship_end_date',\n",
    "    'payment_plan_start_date',\n",
    "    'hardship_length',\n",
    "    'hardship_dpd',\n",
    "    'hardship_loan_status',\n",
    "    'orig_projected_additional_accrued_interest',\n",
    "    'hardship_payoff_balance_amount',\n",
    "    'hardship_last_payment_amount',\n",
    "    'debt_settlement_flag'\n",
    "]\n",
    "\n"
   ]
  },
  {
   "cell_type": "code",
   "execution_count": 432,
   "metadata": {},
   "outputs": [],
   "source": [
    "df = df.drop(columns=columns_to_drop)"
   ]
  },
  {
   "cell_type": "markdown",
   "metadata": {},
   "source": [
    "## 1.2. Cleaning loan_status and changing it to dummy."
   ]
  },
  {
   "cell_type": "code",
   "execution_count": 433,
   "metadata": {},
   "outputs": [
    {
     "name": "stdout",
     "output_type": "stream",
     "text": [
      "loan_status\n",
      "Current               570868\n",
      "Fully Paid             66068\n",
      "Charged Off            13543\n",
      "Late (31-120 days)      6622\n",
      "In Grace Period         4384\n",
      "Issued                  2062\n",
      "Late (16-30 days)       1197\n",
      "Default                   80\n",
      "Name: count, dtype: int64\n"
     ]
    }
   ],
   "source": [
    "print(df['loan_status'].value_counts())"
   ]
  },
  {
   "cell_type": "code",
   "execution_count": 434,
   "metadata": {},
   "outputs": [],
   "source": [
    "df = df[~df['loan_status'].str.lower().isin(['fully paid'])]\n",
    "df['loan_status_dummy'] = df['loan_status'].str.lower().isin(['default', 'charged off']).astype(int)"
   ]
  },
  {
   "cell_type": "code",
   "execution_count": 435,
   "metadata": {},
   "outputs": [
    {
     "name": "stdout",
     "output_type": "stream",
     "text": [
      "loan_status\n",
      "Current               570868\n",
      "Charged Off            13543\n",
      "Late (31-120 days)      6622\n",
      "In Grace Period         4384\n",
      "Issued                  2062\n",
      "Late (16-30 days)       1197\n",
      "Default                   80\n",
      "Name: count, dtype: int64\n"
     ]
    }
   ],
   "source": [
    "print(df['loan_status'].value_counts())"
   ]
  },
  {
   "cell_type": "markdown",
   "metadata": {},
   "source": [
    "### 1.3. Adding column \"region\"."
   ]
  },
  {
   "cell_type": "code",
   "execution_count": 436,
   "metadata": {},
   "outputs": [],
   "source": [
    "northeast = {'CT', 'ME', 'MA', 'NH', 'RI', 'VT', 'NJ', 'NY', 'PA'}\n",
    "midwest = {'IL', 'IN', 'MI', 'OH', 'WI', 'IA', 'KS', 'MN', 'MO', 'NE', 'ND', 'SD'}\n",
    "south = {'DE', 'DC', 'FL', 'GA', 'MD', 'NC', 'SC', 'VA', 'WV', 'AL', 'KY', 'MS', 'TN', 'AR', 'LA', 'OK', 'TX'}\n",
    "west = {'AZ', 'CO', 'ID', 'MT', 'NV', 'NM', 'UT', 'WY', 'AK', 'CA', 'HI', 'OR', 'WA'}\n",
    "\n",
    "\n",
    "def get_region(state):\n",
    "    if state in northeast:\n",
    "        return 'Northeast'\n",
    "    elif state in midwest:\n",
    "        return 'Midwest'\n",
    "    elif state in south:\n",
    "        return 'South'\n",
    "    elif state in west:\n",
    "        return 'West'\n",
    "    else:\n",
    "        return 'Other'\n",
    "\n",
    "df.insert(df.columns.get_loc('addr_state') + 1, 'region', df['addr_state'].map(get_region))"
   ]
  },
  {
   "cell_type": "markdown",
   "metadata": {},
   "source": [
    "### 1.4. Filling missed values."
   ]
  },
  {
   "cell_type": "code",
   "execution_count": 437,
   "metadata": {},
   "outputs": [
    {
     "name": "stdout",
     "output_type": "stream",
     "text": [
      "Number of null values in each column:\n",
      " emp_title           88945\n",
      "emp_length          52854\n",
      "dti                  1223\n",
      "percent_bc_gt_75     6772\n",
      "dtype: int64\n"
     ]
    }
   ],
   "source": [
    "null_counts = df.isnull().sum()\n",
    "null_counts = null_counts[null_counts > 0]\n",
    "print(\"Number of null values in each column:\\n\", null_counts)"
   ]
  },
  {
   "cell_type": "code",
   "execution_count": 438,
   "metadata": {},
   "outputs": [],
   "source": [
    "mode_emp_length = df['emp_length'].mode()[0]\n",
    "df.loc[df['emp_length'].isna() & df['emp_title'].notna(), 'emp_length'] = mode_emp_length\n",
    "df.loc[df['emp_length'].notna() & df['emp_title'].isna(), 'emp_title'] = 'Other'\n",
    "df.loc[df['emp_length'].isna() & df['emp_title'].isna(), ['emp_length', 'emp_title']] = ['0 years', 'Unemployed']"
   ]
  },
  {
   "cell_type": "code",
   "execution_count": 439,
   "metadata": {},
   "outputs": [
    {
     "name": "stderr",
     "output_type": "stream",
     "text": [
      "/var/folders/25/qdj6v0q16nj947n0zplvjg5r0000gp/T/ipykernel_10645/3133795736.py:1: FutureWarning: A value is trying to be set on a copy of a DataFrame or Series through chained assignment using an inplace method.\n",
      "The behavior will change in pandas 3.0. This inplace method will never work because the intermediate object on which we are setting values always behaves as a copy.\n",
      "\n",
      "For example, when doing 'df[col].method(value, inplace=True)', try using 'df.method({col: value}, inplace=True)' or df[col] = df[col].method(value) instead, to perform the operation inplace on the original object.\n",
      "\n",
      "\n",
      "  df['dti'].fillna(df['dti'].mean(), inplace=True)\n",
      "/var/folders/25/qdj6v0q16nj947n0zplvjg5r0000gp/T/ipykernel_10645/3133795736.py:2: FutureWarning: A value is trying to be set on a copy of a DataFrame or Series through chained assignment using an inplace method.\n",
      "The behavior will change in pandas 3.0. This inplace method will never work because the intermediate object on which we are setting values always behaves as a copy.\n",
      "\n",
      "For example, when doing 'df[col].method(value, inplace=True)', try using 'df.method({col: value}, inplace=True)' or df[col] = df[col].method(value) instead, to perform the operation inplace on the original object.\n",
      "\n",
      "\n",
      "  df['percent_bc_gt_75'].fillna(df['percent_bc_gt_75'].mean(), inplace=True)\n"
     ]
    }
   ],
   "source": [
    "df['dti'].fillna(df['dti'].mean(), inplace=True)\n",
    "df['percent_bc_gt_75'].fillna(df['percent_bc_gt_75'].mean(), inplace=True)"
   ]
  },
  {
   "cell_type": "code",
   "execution_count": 440,
   "metadata": {},
   "outputs": [
    {
     "name": "stdout",
     "output_type": "stream",
     "text": [
      "Number of null values in each column:\n",
      " Series([], dtype: int64)\n"
     ]
    }
   ],
   "source": [
    "null_counts = df.isnull().sum()\n",
    "null_counts = null_counts[null_counts > 0]\n",
    "print(\"Number of null values in each column:\\n\", null_counts)"
   ]
  },
  {
   "cell_type": "markdown",
   "metadata": {},
   "source": [
    "### 1.5. Changing values to int's."
   ]
  },
  {
   "cell_type": "code",
   "execution_count": 441,
   "metadata": {},
   "outputs": [
    {
     "name": "stderr",
     "output_type": "stream",
     "text": [
      "/var/folders/25/qdj6v0q16nj947n0zplvjg5r0000gp/T/ipykernel_10645/428229343.py:15: FutureWarning: Downcasting behavior in `replace` is deprecated and will be removed in a future version. To retain the old behavior, explicitly call `result.infer_objects(copy=False)`. To opt-in to the future behavior, set `pd.set_option('future.no_silent_downcasting', True)`\n",
      "  df['emp_length'] = df['emp_length'].replace(replacements)\n"
     ]
    },
    {
     "data": {
      "text/plain": [
       "0         11\n",
       "1          0\n",
       "2         11\n",
       "3          2\n",
       "4          3\n",
       "          ..\n",
       "664819     3\n",
       "664820     9\n",
       "664821     4\n",
       "664822     3\n",
       "664823     7\n",
       "Name: emp_length, Length: 598756, dtype: int64"
      ]
     },
     "execution_count": 441,
     "metadata": {},
     "output_type": "execute_result"
    }
   ],
   "source": [
    "replacements = {\n",
    "    '< 1 year': 0.5,\n",
    "    '0 years': 0,\n",
    "    '1 year': 1,\n",
    "    '2 years': 2,\n",
    "    '3 years': 3,\n",
    "    '4 years': 4,\n",
    "    '5 years': 5,\n",
    "    '6 years': 6,\n",
    "    '7 years': 7,\n",
    "    '8 years': 8,\n",
    "    '9 years': 9,\n",
    "    '10+ years' : 11\n",
    "}\n",
    "df['emp_length'] = df['emp_length'].replace(replacements)\n",
    "df['emp_length'] = df['emp_length'].astype(float).astype(int)\n",
    "df['emp_length']"
   ]
  },
  {
   "cell_type": "code",
   "execution_count": 442,
   "metadata": {},
   "outputs": [],
   "source": [
    "grade_mapping = {\n",
    "    'A': 5,\n",
    "    'B': 4,\n",
    "    'C': 3,\n",
    "    'D': 2,\n",
    "    'E': 1,\n",
    "    'F': 0\n",
    "}\n",
    "\n",
    "df['grade'] = df['grade'].map(grade_mapping)\n",
    "df['grade'] = df['grade'].fillna(0).astype(int)"
   ]
  },
  {
   "cell_type": "code",
   "execution_count": 443,
   "metadata": {},
   "outputs": [],
   "source": [
    "df['int_rate'] = df['int_rate'].str.rstrip('%').astype(float) / 100\n",
    "df['int_rate'] = df['int_rate'].round(3)"
   ]
  },
  {
   "cell_type": "code",
   "execution_count": 444,
   "metadata": {},
   "outputs": [
    {
     "name": "stderr",
     "output_type": "stream",
     "text": [
      "<>:1: SyntaxWarning: invalid escape sequence '\\d'\n",
      "<>:1: SyntaxWarning: invalid escape sequence '\\d'\n",
      "/var/folders/25/qdj6v0q16nj947n0zplvjg5r0000gp/T/ipykernel_10645/3024662541.py:1: SyntaxWarning: invalid escape sequence '\\d'\n",
      "  df['term'] = df['term'].str.extract('(\\d+)').astype(int)\n"
     ]
    }
   ],
   "source": [
    "df['term'] = df['term'].str.extract('(\\d+)').astype(int)"
   ]
  },
  {
   "cell_type": "markdown",
   "metadata": {},
   "source": [
    "### 1.6. Creating dummy columns."
   ]
  },
  {
   "cell_type": "code",
   "execution_count": 445,
   "metadata": {},
   "outputs": [],
   "source": [
    "region_dummies = pd.get_dummies(df['region'], drop_first=False).astype(int)\n",
    "region_dummies.drop(columns=['West'], inplace=True, errors='ignore')\n",
    "df = pd.concat([df, region_dummies], axis=1)"
   ]
  },
  {
   "cell_type": "code",
   "execution_count": 446,
   "metadata": {},
   "outputs": [],
   "source": [
    "df['dept_consolidation'] = df['purpose'].apply(lambda x: 1 if x == 'debt_consolidation' else 0)"
   ]
  },
  {
   "cell_type": "code",
   "execution_count": 447,
   "metadata": {},
   "outputs": [
    {
     "name": "stdout",
     "output_type": "stream",
     "text": [
      "home_ownership\n",
      "MORTGAGE    290473\n",
      "RENT        235791\n",
      "OWN          70398\n",
      "ANY           2093\n",
      "NONE             1\n",
      "Name: count, dtype: int64\n"
     ]
    }
   ],
   "source": [
    "print(df['home_ownership'].value_counts())\n",
    "df = df[~df['home_ownership'].str.upper().eq('NONE')]"
   ]
  },
  {
   "cell_type": "code",
   "execution_count": 448,
   "metadata": {},
   "outputs": [],
   "source": [
    "ownership_dummies = pd.get_dummies(df['home_ownership'], drop_first=False).astype(int)\n",
    "ownership_dummies.drop(columns=['ANY'], inplace=True, errors='ignore')\n",
    "ownership_dummies.rename(columns={\n",
    "    'RENT': 'Rent', 'OWN': 'Own', 'MORTGAGE': 'Mortgage'\n",
    "}, inplace=True)\n",
    "df = pd.concat([df, ownership_dummies], axis=1)"
   ]
  },
  {
   "cell_type": "markdown",
   "metadata": {},
   "source": [
    "### 1.7. Balancing data."
   ]
  },
  {
   "cell_type": "code",
   "execution_count": 449,
   "metadata": {},
   "outputs": [],
   "source": [
    "zeros = df[df['loan_status_dummy'] == 0]\n",
    "ones = df[df['loan_status_dummy'] == 1]\n",
    "\n",
    "zeros_sampled = zeros.sample(n=100000, random_state=42)\n",
    "\n",
    "df = pd.concat([zeros_sampled, ones], ignore_index=True)"
   ]
  },
  {
   "cell_type": "markdown",
   "metadata": {},
   "source": [
    "### 1.8. Cleaning columns of multicollinearity."
   ]
  },
  {
   "cell_type": "code",
   "execution_count": 450,
   "metadata": {},
   "outputs": [],
   "source": [
    "def drop_highly_correlated_features(df, corr_threshold=0.6):\n",
    "    df_numeric = df.select_dtypes(include=[np.number]).copy()\n",
    "    corr_matrix = df_numeric.corr().abs()\n",
    "\n",
    "    upper_tri = corr_matrix.where(np.triu(np.ones(corr_matrix.shape), k=1).astype(bool))\n",
    "    high_corr_pairs = [(col1, col2) for col1 in upper_tri.columns for col2 in upper_tri.columns \n",
    "                       if upper_tri.loc[col1, col2] > corr_threshold]\n",
    "\n",
    "    to_drop = set()\n",
    "    col_corr_count = upper_tri.apply(lambda x: (x > corr_threshold).sum(), axis=0).sort_values(ascending=False)\n",
    "\n",
    "    for col in col_corr_count.index:\n",
    "        if col in to_drop:\n",
    "            continue\n",
    "        correlated = upper_tri.loc[col][upper_tri.loc[col] > corr_threshold].index.tolist()\n",
    "        for c in correlated:\n",
    "            if c not in to_drop:\n",
    "                to_drop.add(c)\n",
    "\n",
    "    return {\n",
    "        \"high_correlation_pairs\": high_corr_pairs,\n",
    "        \"drop_suggestions\": list(to_drop),\n",
    "        \"kept_features\": [col for col in df_numeric.columns if col not in to_drop]\n",
    "    }"
   ]
  },
  {
   "cell_type": "code",
   "execution_count": 451,
   "metadata": {},
   "outputs": [
    {
     "name": "stdout",
     "output_type": "stream",
     "text": [
      "Highly correlated pairs: [('int_rate', 'grade'), ('open_acc', 'total_acc'), ('open_acc', 'num_actv_bc_tl'), ('open_acc', 'num_bc_sats'), ('open_acc', 'num_bc_tl'), ('pub_rec', 'pub_rec_bankruptcies'), ('total_acc', 'num_bc_tl'), ('total_acc', 'num_il_tl'), ('last_fico_range_low', 'loan_status_dummy'), ('num_actv_bc_tl', 'num_bc_sats'), ('num_actv_bc_tl', 'num_bc_tl'), ('num_bc_sats', 'num_bc_tl'), ('Mortgage', 'Rent')]\n",
      "Suggested features to drop: ['num_bc_sats', 'total_acc', 'loan_status_dummy', 'grade', 'num_il_tl', 'num_bc_tl', 'pub_rec_bankruptcies', 'Rent', 'num_actv_bc_tl']\n",
      "Remaining features: ['Unnamed: 0', 'id', 'funded_amnt', 'term', 'int_rate', 'emp_length', 'annual_inc', 'dti', 'delinq_2yrs', 'open_acc', 'pub_rec', 'revol_bal', 'last_fico_range_low', 'tot_cur_bal', 'mort_acc', 'pct_tl_nvr_dlq', 'percent_bc_gt_75', 'total_il_high_credit_limit', 'Midwest', 'Northeast', 'South', 'dept_consolidation', 'Mortgage', 'Own']\n"
     ]
    }
   ],
   "source": [
    "result = drop_highly_correlated_features(df)\n",
    "\n",
    "print(\"Highly correlated pairs:\", result[\"high_correlation_pairs\"])\n",
    "print(\"Suggested features to drop:\", result[\"drop_suggestions\"])\n",
    "print(\"Remaining features:\", result[\"kept_features\"])\n"
   ]
  },
  {
   "cell_type": "code",
   "execution_count": 452,
   "metadata": {},
   "outputs": [
    {
     "data": {
      "text/html": [
       "<div>\n",
       "<style scoped>\n",
       "    .dataframe tbody tr th:only-of-type {\n",
       "        vertical-align: middle;\n",
       "    }\n",
       "\n",
       "    .dataframe tbody tr th {\n",
       "        vertical-align: top;\n",
       "    }\n",
       "\n",
       "    .dataframe thead th {\n",
       "        text-align: right;\n",
       "    }\n",
       "</style>\n",
       "<table border=\"1\" class=\"dataframe\">\n",
       "  <thead>\n",
       "    <tr style=\"text-align: right;\">\n",
       "      <th></th>\n",
       "      <th>Unnamed: 0</th>\n",
       "      <th>id</th>\n",
       "      <th>funded_amnt</th>\n",
       "      <th>term</th>\n",
       "      <th>int_rate</th>\n",
       "      <th>emp_title</th>\n",
       "      <th>emp_length</th>\n",
       "      <th>home_ownership</th>\n",
       "      <th>annual_inc</th>\n",
       "      <th>loan_status</th>\n",
       "      <th>...</th>\n",
       "      <th>percent_bc_gt_75</th>\n",
       "      <th>total_il_high_credit_limit</th>\n",
       "      <th>loan_status_dummy</th>\n",
       "      <th>Midwest</th>\n",
       "      <th>Northeast</th>\n",
       "      <th>South</th>\n",
       "      <th>dept_consolidation</th>\n",
       "      <th>Mortgage</th>\n",
       "      <th>Own</th>\n",
       "      <th>Rent</th>\n",
       "    </tr>\n",
       "  </thead>\n",
       "  <tbody>\n",
       "    <tr>\n",
       "      <th>0</th>\n",
       "      <td>40266</td>\n",
       "      <td>162451862</td>\n",
       "      <td>25525.0</td>\n",
       "      <td>60</td>\n",
       "      <td>0.161</td>\n",
       "      <td>Truck Driver</td>\n",
       "      <td>11</td>\n",
       "      <td>MORTGAGE</td>\n",
       "      <td>110000.0</td>\n",
       "      <td>Current</td>\n",
       "      <td>...</td>\n",
       "      <td>50.0</td>\n",
       "      <td>82693.0</td>\n",
       "      <td>0</td>\n",
       "      <td>0</td>\n",
       "      <td>0</td>\n",
       "      <td>0</td>\n",
       "      <td>1</td>\n",
       "      <td>1</td>\n",
       "      <td>0</td>\n",
       "      <td>0</td>\n",
       "    </tr>\n",
       "    <tr>\n",
       "      <th>1</th>\n",
       "      <td>6408</td>\n",
       "      <td>158704087</td>\n",
       "      <td>15000.0</td>\n",
       "      <td>36</td>\n",
       "      <td>0.103</td>\n",
       "      <td>Teller</td>\n",
       "      <td>0</td>\n",
       "      <td>RENT</td>\n",
       "      <td>65000.0</td>\n",
       "      <td>Current</td>\n",
       "      <td>...</td>\n",
       "      <td>0.0</td>\n",
       "      <td>55027.0</td>\n",
       "      <td>0</td>\n",
       "      <td>0</td>\n",
       "      <td>0</td>\n",
       "      <td>1</td>\n",
       "      <td>1</td>\n",
       "      <td>0</td>\n",
       "      <td>0</td>\n",
       "      <td>1</td>\n",
       "    </tr>\n",
       "    <tr>\n",
       "      <th>2</th>\n",
       "      <td>9775</td>\n",
       "      <td>163780661</td>\n",
       "      <td>8000.0</td>\n",
       "      <td>36</td>\n",
       "      <td>0.124</td>\n",
       "      <td>Teacher</td>\n",
       "      <td>2</td>\n",
       "      <td>RENT</td>\n",
       "      <td>52000.0</td>\n",
       "      <td>Current</td>\n",
       "      <td>...</td>\n",
       "      <td>0.0</td>\n",
       "      <td>120450.0</td>\n",
       "      <td>0</td>\n",
       "      <td>1</td>\n",
       "      <td>0</td>\n",
       "      <td>0</td>\n",
       "      <td>0</td>\n",
       "      <td>0</td>\n",
       "      <td>0</td>\n",
       "      <td>1</td>\n",
       "    </tr>\n",
       "    <tr>\n",
       "      <th>3</th>\n",
       "      <td>22578</td>\n",
       "      <td>153348417</td>\n",
       "      <td>12000.0</td>\n",
       "      <td>36</td>\n",
       "      <td>0.161</td>\n",
       "      <td>Owner</td>\n",
       "      <td>1</td>\n",
       "      <td>RENT</td>\n",
       "      <td>96000.0</td>\n",
       "      <td>Current</td>\n",
       "      <td>...</td>\n",
       "      <td>50.0</td>\n",
       "      <td>36570.0</td>\n",
       "      <td>0</td>\n",
       "      <td>0</td>\n",
       "      <td>0</td>\n",
       "      <td>0</td>\n",
       "      <td>0</td>\n",
       "      <td>0</td>\n",
       "      <td>0</td>\n",
       "      <td>1</td>\n",
       "    </tr>\n",
       "    <tr>\n",
       "      <th>4</th>\n",
       "      <td>356</td>\n",
       "      <td>159595068</td>\n",
       "      <td>13000.0</td>\n",
       "      <td>36</td>\n",
       "      <td>0.117</td>\n",
       "      <td>Marketing associate</td>\n",
       "      <td>0</td>\n",
       "      <td>RENT</td>\n",
       "      <td>60000.0</td>\n",
       "      <td>Current</td>\n",
       "      <td>...</td>\n",
       "      <td>100.0</td>\n",
       "      <td>98118.0</td>\n",
       "      <td>0</td>\n",
       "      <td>0</td>\n",
       "      <td>0</td>\n",
       "      <td>0</td>\n",
       "      <td>0</td>\n",
       "      <td>0</td>\n",
       "      <td>0</td>\n",
       "      <td>1</td>\n",
       "    </tr>\n",
       "  </tbody>\n",
       "</table>\n",
       "<p>5 rows × 34 columns</p>\n",
       "</div>"
      ],
      "text/plain": [
       "   Unnamed: 0         id  funded_amnt  term  int_rate            emp_title  \\\n",
       "0       40266  162451862      25525.0    60     0.161         Truck Driver   \n",
       "1        6408  158704087      15000.0    36     0.103               Teller   \n",
       "2        9775  163780661       8000.0    36     0.124              Teacher   \n",
       "3       22578  153348417      12000.0    36     0.161                Owner   \n",
       "4         356  159595068      13000.0    36     0.117  Marketing associate   \n",
       "\n",
       "   emp_length home_ownership  annual_inc loan_status  ... percent_bc_gt_75  \\\n",
       "0          11       MORTGAGE    110000.0     Current  ...             50.0   \n",
       "1           0           RENT     65000.0     Current  ...              0.0   \n",
       "2           2           RENT     52000.0     Current  ...              0.0   \n",
       "3           1           RENT     96000.0     Current  ...             50.0   \n",
       "4           0           RENT     60000.0     Current  ...            100.0   \n",
       "\n",
       "  total_il_high_credit_limit loan_status_dummy  Midwest  Northeast  South  \\\n",
       "0                    82693.0                 0        0          0      0   \n",
       "1                    55027.0                 0        0          0      1   \n",
       "2                   120450.0                 0        1          0      0   \n",
       "3                    36570.0                 0        0          0      0   \n",
       "4                    98118.0                 0        0          0      0   \n",
       "\n",
       "   dept_consolidation  Mortgage  Own Rent  \n",
       "0                   1         1    0    0  \n",
       "1                   1         0    0    1  \n",
       "2                   0         0    0    1  \n",
       "3                   0         0    0    1  \n",
       "4                   0         0    0    1  \n",
       "\n",
       "[5 rows x 34 columns]"
      ]
     },
     "execution_count": 452,
     "metadata": {},
     "output_type": "execute_result"
    }
   ],
   "source": [
    "columns_coll =['pub_rec_bankruptcies', 'num_bc_sats', 'num_il_tl', 'num_bc_tl', 'grade', 'total_acc']\n",
    "df = df.drop(columns=columns_coll)\n",
    "df.head()"
   ]
  },
  {
   "cell_type": "markdown",
   "metadata": {},
   "source": [
    "### 1.9. Saving data."
   ]
  },
  {
   "cell_type": "code",
   "execution_count": 453,
   "metadata": {},
   "outputs": [
    {
     "data": {
      "text/html": [
       "<div>\n",
       "<style scoped>\n",
       "    .dataframe tbody tr th:only-of-type {\n",
       "        vertical-align: middle;\n",
       "    }\n",
       "\n",
       "    .dataframe tbody tr th {\n",
       "        vertical-align: top;\n",
       "    }\n",
       "\n",
       "    .dataframe thead th {\n",
       "        text-align: right;\n",
       "    }\n",
       "</style>\n",
       "<table border=\"1\" class=\"dataframe\">\n",
       "  <thead>\n",
       "    <tr style=\"text-align: right;\">\n",
       "      <th></th>\n",
       "      <th>Unnamed: 0</th>\n",
       "      <th>id</th>\n",
       "      <th>funded_amnt</th>\n",
       "      <th>term</th>\n",
       "      <th>int_rate</th>\n",
       "      <th>emp_title</th>\n",
       "      <th>emp_length</th>\n",
       "      <th>home_ownership</th>\n",
       "      <th>annual_inc</th>\n",
       "      <th>loan_status</th>\n",
       "      <th>...</th>\n",
       "      <th>percent_bc_gt_75</th>\n",
       "      <th>total_il_high_credit_limit</th>\n",
       "      <th>loan_status_dummy</th>\n",
       "      <th>Midwest</th>\n",
       "      <th>Northeast</th>\n",
       "      <th>South</th>\n",
       "      <th>dept_consolidation</th>\n",
       "      <th>Mortgage</th>\n",
       "      <th>Own</th>\n",
       "      <th>Rent</th>\n",
       "    </tr>\n",
       "  </thead>\n",
       "  <tbody>\n",
       "    <tr>\n",
       "      <th>0</th>\n",
       "      <td>40266</td>\n",
       "      <td>162451862</td>\n",
       "      <td>25525.0</td>\n",
       "      <td>60</td>\n",
       "      <td>0.161</td>\n",
       "      <td>Truck Driver</td>\n",
       "      <td>11</td>\n",
       "      <td>MORTGAGE</td>\n",
       "      <td>110000.0</td>\n",
       "      <td>Current</td>\n",
       "      <td>...</td>\n",
       "      <td>50.0</td>\n",
       "      <td>82693.0</td>\n",
       "      <td>0</td>\n",
       "      <td>0</td>\n",
       "      <td>0</td>\n",
       "      <td>0</td>\n",
       "      <td>1</td>\n",
       "      <td>1</td>\n",
       "      <td>0</td>\n",
       "      <td>0</td>\n",
       "    </tr>\n",
       "    <tr>\n",
       "      <th>1</th>\n",
       "      <td>6408</td>\n",
       "      <td>158704087</td>\n",
       "      <td>15000.0</td>\n",
       "      <td>36</td>\n",
       "      <td>0.103</td>\n",
       "      <td>Teller</td>\n",
       "      <td>0</td>\n",
       "      <td>RENT</td>\n",
       "      <td>65000.0</td>\n",
       "      <td>Current</td>\n",
       "      <td>...</td>\n",
       "      <td>0.0</td>\n",
       "      <td>55027.0</td>\n",
       "      <td>0</td>\n",
       "      <td>0</td>\n",
       "      <td>0</td>\n",
       "      <td>1</td>\n",
       "      <td>1</td>\n",
       "      <td>0</td>\n",
       "      <td>0</td>\n",
       "      <td>1</td>\n",
       "    </tr>\n",
       "    <tr>\n",
       "      <th>2</th>\n",
       "      <td>9775</td>\n",
       "      <td>163780661</td>\n",
       "      <td>8000.0</td>\n",
       "      <td>36</td>\n",
       "      <td>0.124</td>\n",
       "      <td>Teacher</td>\n",
       "      <td>2</td>\n",
       "      <td>RENT</td>\n",
       "      <td>52000.0</td>\n",
       "      <td>Current</td>\n",
       "      <td>...</td>\n",
       "      <td>0.0</td>\n",
       "      <td>120450.0</td>\n",
       "      <td>0</td>\n",
       "      <td>1</td>\n",
       "      <td>0</td>\n",
       "      <td>0</td>\n",
       "      <td>0</td>\n",
       "      <td>0</td>\n",
       "      <td>0</td>\n",
       "      <td>1</td>\n",
       "    </tr>\n",
       "    <tr>\n",
       "      <th>3</th>\n",
       "      <td>22578</td>\n",
       "      <td>153348417</td>\n",
       "      <td>12000.0</td>\n",
       "      <td>36</td>\n",
       "      <td>0.161</td>\n",
       "      <td>Owner</td>\n",
       "      <td>1</td>\n",
       "      <td>RENT</td>\n",
       "      <td>96000.0</td>\n",
       "      <td>Current</td>\n",
       "      <td>...</td>\n",
       "      <td>50.0</td>\n",
       "      <td>36570.0</td>\n",
       "      <td>0</td>\n",
       "      <td>0</td>\n",
       "      <td>0</td>\n",
       "      <td>0</td>\n",
       "      <td>0</td>\n",
       "      <td>0</td>\n",
       "      <td>0</td>\n",
       "      <td>1</td>\n",
       "    </tr>\n",
       "    <tr>\n",
       "      <th>4</th>\n",
       "      <td>356</td>\n",
       "      <td>159595068</td>\n",
       "      <td>13000.0</td>\n",
       "      <td>36</td>\n",
       "      <td>0.117</td>\n",
       "      <td>Marketing associate</td>\n",
       "      <td>0</td>\n",
       "      <td>RENT</td>\n",
       "      <td>60000.0</td>\n",
       "      <td>Current</td>\n",
       "      <td>...</td>\n",
       "      <td>100.0</td>\n",
       "      <td>98118.0</td>\n",
       "      <td>0</td>\n",
       "      <td>0</td>\n",
       "      <td>0</td>\n",
       "      <td>0</td>\n",
       "      <td>0</td>\n",
       "      <td>0</td>\n",
       "      <td>0</td>\n",
       "      <td>1</td>\n",
       "    </tr>\n",
       "    <tr>\n",
       "      <th>...</th>\n",
       "      <td>...</td>\n",
       "      <td>...</td>\n",
       "      <td>...</td>\n",
       "      <td>...</td>\n",
       "      <td>...</td>\n",
       "      <td>...</td>\n",
       "      <td>...</td>\n",
       "      <td>...</td>\n",
       "      <td>...</td>\n",
       "      <td>...</td>\n",
       "      <td>...</td>\n",
       "      <td>...</td>\n",
       "      <td>...</td>\n",
       "      <td>...</td>\n",
       "      <td>...</td>\n",
       "      <td>...</td>\n",
       "      <td>...</td>\n",
       "      <td>...</td>\n",
       "      <td>...</td>\n",
       "      <td>...</td>\n",
       "      <td>...</td>\n",
       "    </tr>\n",
       "    <tr>\n",
       "      <th>113618</th>\n",
       "      <td>12150</td>\n",
       "      <td>168572197</td>\n",
       "      <td>25000.0</td>\n",
       "      <td>36</td>\n",
       "      <td>0.256</td>\n",
       "      <td>Lock Desk Coordinator</td>\n",
       "      <td>1</td>\n",
       "      <td>MORTGAGE</td>\n",
       "      <td>52000.0</td>\n",
       "      <td>Charged Off</td>\n",
       "      <td>...</td>\n",
       "      <td>0.0</td>\n",
       "      <td>0.0</td>\n",
       "      <td>1</td>\n",
       "      <td>0</td>\n",
       "      <td>0</td>\n",
       "      <td>1</td>\n",
       "      <td>1</td>\n",
       "      <td>1</td>\n",
       "      <td>0</td>\n",
       "      <td>0</td>\n",
       "    </tr>\n",
       "    <tr>\n",
       "      <th>113619</th>\n",
       "      <td>12406</td>\n",
       "      <td>168693104</td>\n",
       "      <td>10000.0</td>\n",
       "      <td>36</td>\n",
       "      <td>0.133</td>\n",
       "      <td>Field Marketing Specialist</td>\n",
       "      <td>0</td>\n",
       "      <td>RENT</td>\n",
       "      <td>75000.0</td>\n",
       "      <td>Charged Off</td>\n",
       "      <td>...</td>\n",
       "      <td>0.0</td>\n",
       "      <td>55751.0</td>\n",
       "      <td>1</td>\n",
       "      <td>0</td>\n",
       "      <td>0</td>\n",
       "      <td>1</td>\n",
       "      <td>1</td>\n",
       "      <td>0</td>\n",
       "      <td>0</td>\n",
       "      <td>1</td>\n",
       "    </tr>\n",
       "    <tr>\n",
       "      <th>113620</th>\n",
       "      <td>12479</td>\n",
       "      <td>168690940</td>\n",
       "      <td>20000.0</td>\n",
       "      <td>36</td>\n",
       "      <td>0.161</td>\n",
       "      <td>Software Engineer</td>\n",
       "      <td>11</td>\n",
       "      <td>RENT</td>\n",
       "      <td>88213.0</td>\n",
       "      <td>Charged Off</td>\n",
       "      <td>...</td>\n",
       "      <td>0.0</td>\n",
       "      <td>0.0</td>\n",
       "      <td>1</td>\n",
       "      <td>0</td>\n",
       "      <td>1</td>\n",
       "      <td>0</td>\n",
       "      <td>1</td>\n",
       "      <td>0</td>\n",
       "      <td>0</td>\n",
       "      <td>1</td>\n",
       "    </tr>\n",
       "    <tr>\n",
       "      <th>113621</th>\n",
       "      <td>13244</td>\n",
       "      <td>168644724</td>\n",
       "      <td>17000.0</td>\n",
       "      <td>60</td>\n",
       "      <td>0.161</td>\n",
       "      <td>Sales</td>\n",
       "      <td>2</td>\n",
       "      <td>MORTGAGE</td>\n",
       "      <td>155000.0</td>\n",
       "      <td>Charged Off</td>\n",
       "      <td>...</td>\n",
       "      <td>80.0</td>\n",
       "      <td>50971.0</td>\n",
       "      <td>1</td>\n",
       "      <td>1</td>\n",
       "      <td>0</td>\n",
       "      <td>0</td>\n",
       "      <td>0</td>\n",
       "      <td>1</td>\n",
       "      <td>0</td>\n",
       "      <td>0</td>\n",
       "    </tr>\n",
       "    <tr>\n",
       "      <th>113622</th>\n",
       "      <td>19253</td>\n",
       "      <td>169367278</td>\n",
       "      <td>6000.0</td>\n",
       "      <td>36</td>\n",
       "      <td>0.108</td>\n",
       "      <td>SSM</td>\n",
       "      <td>2</td>\n",
       "      <td>RENT</td>\n",
       "      <td>100000.0</td>\n",
       "      <td>Charged Off</td>\n",
       "      <td>...</td>\n",
       "      <td>20.0</td>\n",
       "      <td>24910.0</td>\n",
       "      <td>1</td>\n",
       "      <td>0</td>\n",
       "      <td>0</td>\n",
       "      <td>0</td>\n",
       "      <td>0</td>\n",
       "      <td>0</td>\n",
       "      <td>0</td>\n",
       "      <td>1</td>\n",
       "    </tr>\n",
       "  </tbody>\n",
       "</table>\n",
       "<p>113623 rows × 34 columns</p>\n",
       "</div>"
      ],
      "text/plain": [
       "        Unnamed: 0         id  funded_amnt  term  int_rate  \\\n",
       "0            40266  162451862      25525.0    60     0.161   \n",
       "1             6408  158704087      15000.0    36     0.103   \n",
       "2             9775  163780661       8000.0    36     0.124   \n",
       "3            22578  153348417      12000.0    36     0.161   \n",
       "4              356  159595068      13000.0    36     0.117   \n",
       "...            ...        ...          ...   ...       ...   \n",
       "113618       12150  168572197      25000.0    36     0.256   \n",
       "113619       12406  168693104      10000.0    36     0.133   \n",
       "113620       12479  168690940      20000.0    36     0.161   \n",
       "113621       13244  168644724      17000.0    60     0.161   \n",
       "113622       19253  169367278       6000.0    36     0.108   \n",
       "\n",
       "                         emp_title  emp_length home_ownership  annual_inc  \\\n",
       "0                     Truck Driver          11       MORTGAGE    110000.0   \n",
       "1                           Teller           0           RENT     65000.0   \n",
       "2                          Teacher           2           RENT     52000.0   \n",
       "3                            Owner           1           RENT     96000.0   \n",
       "4              Marketing associate           0           RENT     60000.0   \n",
       "...                            ...         ...            ...         ...   \n",
       "113618      Lock Desk Coordinator            1       MORTGAGE     52000.0   \n",
       "113619  Field Marketing Specialist           0           RENT     75000.0   \n",
       "113620          Software Engineer           11           RENT     88213.0   \n",
       "113621                     Sales             2       MORTGAGE    155000.0   \n",
       "113622                         SSM           2           RENT    100000.0   \n",
       "\n",
       "        loan_status  ... percent_bc_gt_75 total_il_high_credit_limit  \\\n",
       "0           Current  ...             50.0                    82693.0   \n",
       "1           Current  ...              0.0                    55027.0   \n",
       "2           Current  ...              0.0                   120450.0   \n",
       "3           Current  ...             50.0                    36570.0   \n",
       "4           Current  ...            100.0                    98118.0   \n",
       "...             ...  ...              ...                        ...   \n",
       "113618  Charged Off  ...              0.0                        0.0   \n",
       "113619  Charged Off  ...              0.0                    55751.0   \n",
       "113620  Charged Off  ...              0.0                        0.0   \n",
       "113621  Charged Off  ...             80.0                    50971.0   \n",
       "113622  Charged Off  ...             20.0                    24910.0   \n",
       "\n",
       "       loan_status_dummy  Midwest  Northeast  South  dept_consolidation  \\\n",
       "0                      0        0          0      0                   1   \n",
       "1                      0        0          0      1                   1   \n",
       "2                      0        1          0      0                   0   \n",
       "3                      0        0          0      0                   0   \n",
       "4                      0        0          0      0                   0   \n",
       "...                  ...      ...        ...    ...                 ...   \n",
       "113618                 1        0          0      1                   1   \n",
       "113619                 1        0          0      1                   1   \n",
       "113620                 1        0          1      0                   1   \n",
       "113621                 1        1          0      0                   0   \n",
       "113622                 1        0          0      0                   0   \n",
       "\n",
       "        Mortgage  Own Rent  \n",
       "0              1    0    0  \n",
       "1              0    0    1  \n",
       "2              0    0    1  \n",
       "3              0    0    1  \n",
       "4              0    0    1  \n",
       "...          ...  ...  ...  \n",
       "113618         1    0    0  \n",
       "113619         0    0    1  \n",
       "113620         0    0    1  \n",
       "113621         1    0    0  \n",
       "113622         0    0    1  \n",
       "\n",
       "[113623 rows x 34 columns]"
      ]
     },
     "execution_count": 453,
     "metadata": {},
     "output_type": "execute_result"
    }
   ],
   "source": [
    "df.to_csv(\"cleaned_new_data.csv\", index=False)\n",
    "df"
   ]
  },
  {
   "cell_type": "markdown",
   "metadata": {},
   "source": [
    "# 2. Data analysis"
   ]
  },
  {
   "cell_type": "markdown",
   "metadata": {},
   "source": [
    "### 2.1. Interest rate vs loan duration"
   ]
  },
  {
   "cell_type": "code",
   "execution_count": 454,
   "metadata": {},
   "outputs": [
    {
     "data": {
      "image/png": "[encoded data removed]",
      "text/plain": [
       "<Figure size 800x500 with 1 Axes>"
      ]
     },
     "metadata": {},
     "output_type": "display_data"
    }
   ],
   "source": [
    "df_cleaned = pd.read_csv('cleaned_new_data.csv')\n",
    "plt.figure(figsize=(8, 5))\n",
    "sns.boxplot(x=df_cleaned['term'], y=[i*100 for i in df_cleaned['int_rate']], color='#EE6A93')\n",
    "plt.title(\"Interest rate in terms of loan duration\")\n",
    "yticks = np.arange(0, 35, 5)\n",
    "plt.yticks(ticks=yticks, labels=[f'{y}%' for y in yticks])\n",
    "plt.xlabel(\"Loan duration\")\n",
    "plt.ylabel(\"Interest rate\")\n",
    "plt.show()"
   ]
  },
  {
   "cell_type": "markdown",
   "metadata": {},
   "source": [
    "### 2.2. Distribution of ones and zeros in loan status"
   ]
  },
  {
   "cell_type": "code",
   "execution_count": null,
   "metadata": {},
   "outputs": [
    {
     "data": {
      "image/png": "[encoded data removed]",
      "text/plain": [
       "<Figure size 1000x500 with 1 Axes>"
      ]
     },
     "metadata": {},
     "output_type": "display_data"
    }
   ],
   "source": [
    "plt.figure(figsize=(10,5))\n",
    "sns.countplot(y=df_cleaned['loan_status_dummy'], order=df_cleaned['loan_status_dummy'].value_counts().index, color='#A4BB1A')\n",
    "plt.title(\"Distribution of loan status\")\n",
    "plt.xlabel(\"Num of loans\")\n",
    "plt.ylabel(\"Status\")\n",
    "plt.show()"
   ]
  },
  {
   "cell_type": "markdown",
   "metadata": {},
   "source": [
    "### 2.3. Type of home ownership vs loan status"
   ]
  },
  {
   "cell_type": "code",
   "execution_count": 470,
   "metadata": {},
   "outputs": [
    {
     "data": {
      "image/png": "[encoded data removed]",
      "text/plain": [
       "<Figure size 1000x500 with 1 Axes>"
      ]
     },
     "metadata": {},
     "output_type": "display_data"
    }
   ],
   "source": [
    "custom_palette = {\n",
    "    0: \"#EE6A93\",\n",
    "    1: \"#E73A26\"\n",
    "}\n",
    "\n",
    "total_ones = len(df_cleaned[df_cleaned['loan_status_dummy'] == 1])\n",
    "ones_per_category = df_cleaned[df_cleaned['loan_status_dummy'] == 1]['home_ownership'].value_counts()\n",
    "percent_labels = (ones_per_category / total_ones * 100).round(1).astype(str) + '%'\n",
    "plt.figure(figsize=(10, 5))\n",
    "ax = sns.countplot(x='home_ownership', hue='loan_status_dummy', data=df_cleaned, palette=custom_palette)\n",
    "num_categories = df_cleaned['home_ownership'].nunique()\n",
    "bars = ax.patches[num_categories:]\n",
    "\n",
    "for bar in bars:\n",
    "    category = bar.get_x() + bar.get_width() / 2\n",
    "    label = bar.get_label()\n",
    "    height = bar.get_height()\n",
    "    home_type = bar.get_x() + bar.get_width() / 2\n",
    "    category_name = bar.get_x()\n",
    "    home_type_idx = int((bar.get_x() + bar.get_width() / 2) // 1)\n",
    "    home_type_label = ax.get_xticklabels()[home_type_idx].get_text()\n",
    "    percent = percent_labels.get(home_type_label, \"\")\n",
    "    \n",
    "    ax.text(bar.get_x() + bar.get_width() / 2, height + 5, percent,\n",
    "            ha='center', va='bottom', fontsize=10, color='black')\n",
    "\n",
    "plt.title(\"Type of Home Ownership vs Loan Status\")\n",
    "plt.xlabel(\"Type of Home Ownership\")\n",
    "plt.ylabel(\"Quantity\")\n",
    "plt.legend(title=\"Loan Status\")\n",
    "plt.ylim(bottom=0)\n",
    "plt.tight_layout()\n",
    "plt.show()\n"
   ]
  },
  {
   "cell_type": "code",
   "execution_count": 457,
   "metadata": {},
   "outputs": [
    {
     "name": "stdout",
     "output_type": "stream",
     "text": [
      "loan_status_dummy      0     1  percent_1\n",
      "home_ownership                           \n",
      "ANY                  348   122       26.0\n",
      "OWN                11827  1830       13.4\n",
      "RENT               39146  5901       13.1\n",
      "MORTGAGE           48679  5770       10.6\n"
     ]
    }
   ],
   "source": [
    "result = df_cleaned.groupby('home_ownership')['loan_status_dummy'].value_counts().unstack(fill_value=0)\n",
    "result['percent_1'] = round(100 * result[1] / (result[0] + result[1]), 1)\n",
    "result = result.sort_values(by='percent_1', ascending=False)\n",
    "print(result)"
   ]
  },
  {
   "cell_type": "markdown",
   "metadata": {},
   "source": [
    "### 2.4. Type of purpose vs loan status"
   ]
  },
  {
   "cell_type": "code",
   "execution_count": 458,
   "metadata": {},
   "outputs": [
    {
     "data": {
      "image/png": "[encoded data removed]",
      "text/plain": [
       "<Figure size 1200x600 with 1 Axes>"
      ]
     },
     "metadata": {},
     "output_type": "display_data"
    }
   ],
   "source": [
    "custom_palette = {\n",
    "    0: \"#EE6A93\",\n",
    "    1: \"#A4BB1A\"\n",
    "}\n",
    "plt.figure(figsize=(12, 6))\n",
    "ax = sns.countplot(\n",
    "    y=df_cleaned['purpose'],\n",
    "    hue=df_cleaned['loan_status_dummy'],\n",
    "    palette=custom_palette,\n",
    "    order=df_cleaned['purpose'].value_counts().index\n",
    ")\n",
    "\n",
    "ones_total = df_cleaned[df_cleaned['loan_status_dummy'] == 1].shape[0]\n",
    "percent_ones_by_purpose = (\n",
    "    df_cleaned[df_cleaned['loan_status_dummy'] == 1]['purpose']\n",
    "    .value_counts(normalize=True) * 100\n",
    ")\n",
    "\n",
    "for i, purpose in enumerate(df_cleaned['purpose'].value_counts().index):\n",
    "    percent = percent_ones_by_purpose.get(purpose, 0)\n",
    "    ax.text(\n",
    "        x=ax.containers[1][i].get_width() + 2,\n",
    "        y=i,\n",
    "        s=f\"{percent:.1f}%\",\n",
    "        va='center',\n",
    "        color='black',\n",
    "        fontsize=10\n",
    "    )\n",
    "\n",
    "plt.title(\"Loan Status vs. Purpose\")\n",
    "plt.xlabel(\"Num of loans\")\n",
    "plt.ylabel(\"Loan purpose\")\n",
    "plt.legend(title=\"Loan Status\")\n",
    "plt.tight_layout()\n",
    "plt.show()\n"
   ]
  },
  {
   "cell_type": "code",
   "execution_count": 459,
   "metadata": {},
   "outputs": [
    {
     "name": "stdout",
     "output_type": "stream",
     "text": [
      "loan_status_dummy       0     1  percent_1\n",
      "purpose                                   \n",
      "small_business        744   179       19.4\n",
      "moving                519   116       18.3\n",
      "medical              1241   204       14.1\n",
      "major_purchase       1760   284       13.9\n",
      "house                 775   124       13.8\n",
      "vacation              646   100       13.4\n",
      "other                5595   825       12.9\n",
      "debt_consolidation  54318  7847       12.6\n",
      "home_improvement     6248   841       11.9\n",
      "car                   818    99       10.8\n",
      "credit_card         27280  2999        9.9\n",
      "renewable_energy       56     5        8.2\n"
     ]
    }
   ],
   "source": [
    "result_purpose = df_cleaned.groupby('purpose')['loan_status_dummy'].value_counts().unstack(fill_value=0)\n",
    "result_purpose['percent_1'] = round(100 * result_purpose[1] / (result_purpose[0] + result_purpose[1]), 1)\n",
    "result_purpose = result_purpose.sort_values(by='percent_1', ascending=False)\n",
    "print(result_purpose)"
   ]
  },
  {
   "cell_type": "markdown",
   "metadata": {},
   "source": [
    "### 2.5. Employment length vs loan status"
   ]
  },
  {
   "cell_type": "code",
   "execution_count": 460,
   "metadata": {},
   "outputs": [
    {
     "data": {
      "image/png": "[encoded data removed]",
      "text/plain": [
       "<Figure size 1000x600 with 1 Axes>"
      ]
     },
     "metadata": {},
     "output_type": "display_data"
    }
   ],
   "source": [
    "custom_palette = {\n",
    "    0: \"#A4BB1A\",\n",
    "    1: \"#E73A26\"\n",
    "}\n",
    "emp_length_order = [0, 1, 2, 3, 4, 5, 6, 7, 8, 9, 11]\n",
    "df_ones = df_cleaned[df_cleaned['loan_status_dummy'] == 1]\n",
    "total_ones = len(df_ones)\n",
    "ones_per_category = df_ones['emp_length'].value_counts().reindex(emp_length_order, fill_value=0)\n",
    "percent_labels = (ones_per_category / total_ones * 100).round(1)\n",
    "\n",
    "plt.figure(figsize=(10, 6))\n",
    "ax = sns.countplot(\n",
    "    data=df_cleaned,\n",
    "    x='emp_length',\n",
    "    hue='loan_status_dummy',\n",
    "    order=emp_length_order,\n",
    "    palette=custom_palette\n",
    ")\n",
    "num_categories = len(emp_length_order)\n",
    "bars = ax.patches[num_categories:]\n",
    "\n",
    "for bar, emp_len in zip(bars, emp_length_order):\n",
    "    height = bar.get_height()\n",
    "    percent = percent_labels.get(emp_len, 0)\n",
    "    ax.text(\n",
    "        bar.get_x() + bar.get_width() / 2,\n",
    "        height + 3,\n",
    "        f'{percent}%',\n",
    "        ha='center',\n",
    "        fontsize=9,\n",
    "        color='black'\n",
    "    )\n",
    "\n",
    "plt.title('Employment length vs loan status')\n",
    "plt.xlabel('Employment length')\n",
    "plt.ylabel('Num of loans')\n",
    "plt.xticks(rotation=45)\n",
    "plt.legend(title=\"Loan status\")\n",
    "plt.ylim(top=ax.get_ylim()[1] * 1.15)\n",
    "plt.show()\n"
   ]
  },
  {
   "cell_type": "code",
   "execution_count": 471,
   "metadata": {},
   "outputs": [
    {
     "name": "stdout",
     "output_type": "stream",
     "text": [
      "loan_status_dummy      0     1  percent_1\n",
      "emp_length                               \n",
      "0                  21392  3718       14.8\n",
      "1                   6885   985       12.5\n",
      "5                   6292   897       12.5\n",
      "3                   7730  1030       11.8\n",
      "2                   8797  1162       11.7\n",
      "4                   6031   792       11.6\n",
      "8                   3109   401       11.4\n",
      "6                   4071   493       10.8\n",
      "7                   3465   415       10.7\n",
      "11                 29828  3464       10.4\n",
      "9                   2400   266       10.0\n"
     ]
    }
   ],
   "source": [
    "result_purpose = df_cleaned.groupby('emp_length')['loan_status_dummy'].value_counts().unstack(fill_value=0)\n",
    "result_purpose['percent_1'] = round(100 * result_purpose[1] / (result_purpose[0] + result_purpose[1]), 1)\n",
    "result_purpose = result_purpose.sort_values(by='percent_1', ascending=False)\n",
    "print(result_purpose)"
   ]
  },
  {
   "cell_type": "markdown",
   "metadata": {},
   "source": [
    "### 2.6.Employment title vs loan status"
   ]
  },
  {
   "cell_type": "code",
   "execution_count": 461,
   "metadata": {},
   "outputs": [
    {
     "data": {
      "image/png": "[encoded data removed]",
      "text/plain": [
       "<Figure size 1200x600 with 1 Axes>"
      ]
     },
     "metadata": {},
     "output_type": "display_data"
    }
   ],
   "source": [
    "custom_palette = {\n",
    "    0: \"#EE6A93\",\n",
    "    1: \"#E73A26\"\n",
    "}\n",
    "\n",
    "top_titles = df_cleaned['emp_title'].value_counts().nlargest(10).index\n",
    "df_top = df_cleaned[df_cleaned['emp_title'].isin(top_titles)]\n",
    "df_ones = df_top[df_top['loan_status_dummy'] == 1]\n",
    "total_ones = len(df_ones)\n",
    "ones_per_title = df_ones['emp_title'].value_counts().reindex(top_titles, fill_value=0)\n",
    "percent_labels = (ones_per_title / total_ones * 100).round(1)\n",
    "\n",
    "sns.set(style=\"whitegrid\")\n",
    "plt.figure(figsize=(12, 6))\n",
    "ax = sns.countplot(\n",
    "    data=df_top,\n",
    "    x='emp_title',\n",
    "    hue='loan_status_dummy',\n",
    "    order=top_titles,\n",
    "    palette=custom_palette\n",
    ")\n",
    "num_categories = len(top_titles)\n",
    "bars = ax.patches[num_categories:]\n",
    "for bar, title in zip(bars, top_titles):\n",
    "    height = bar.get_height()\n",
    "    percent = percent_labels.get(title, 0)\n",
    "    ax.text(\n",
    "        bar.get_x() + bar.get_width() / 2,\n",
    "        height + 3,\n",
    "        f'{percent}%',\n",
    "        ha='center',\n",
    "        fontsize=9,\n",
    "        color='black'\n",
    "    )\n",
    "\n",
    "plt.xticks(rotation=45, ha='right')\n",
    "plt.xlabel('Employee Title')\n",
    "plt.ylabel('Count')\n",
    "plt.title('Loan Status by Top 10 Employee Titles')\n",
    "plt.tight_layout()\n",
    "plt.ylim(top=ax.get_ylim()[1] * 1.15)\n",
    "plt.show()\n"
   ]
  },
  {
   "cell_type": "code",
   "execution_count": 462,
   "metadata": {},
   "outputs": [
    {
     "name": "stdout",
     "output_type": "stream",
     "text": [
      "loan_status_dummy     0     1  percent_1\n",
      "emp_title                               \n",
      "Unemployed         8836  1717       16.3\n",
      "Other              5927  1128       16.0\n",
      "Driver              756   139       15.5\n",
      "Manager            1465   234       13.8\n",
      "Supervisor          564    82       12.7\n",
      "Project Manager     454    64       12.4\n",
      "Sales               442    62       12.3\n",
      "Teacher            1754   194       10.0\n",
      "RN                  529    52        9.0\n",
      "Registered Nurse    763    70        8.4\n"
     ]
    }
   ],
   "source": [
    "column = 'emp_title'\n",
    "top_n = 10\n",
    "top_values = df_cleaned[column].value_counts().nlargest(top_n).index\n",
    "df_top = df_cleaned[df_cleaned[column].isin(top_values)]\n",
    "result = df_top.groupby(column)['loan_status_dummy'].value_counts().unstack(fill_value=0)\n",
    "result['percent_1'] = round(100 * result.get(1, 0) / (result.get(0, 0) + result.get(1, 0)), 1)\n",
    "result = result.sort_values(by='percent_1', ascending=False)\n",
    "print(result)"
   ]
  },
  {
   "cell_type": "markdown",
   "metadata": {},
   "source": [
    "### 2.7 Region vs loan status"
   ]
  },
  {
   "cell_type": "code",
   "execution_count": 463,
   "metadata": {},
   "outputs": [
    {
     "data": {
      "image/png": "[encoded data removed]",
      "text/plain": [
       "<Figure size 1200x600 with 1 Axes>"
      ]
     },
     "metadata": {},
     "output_type": "display_data"
    }
   ],
   "source": [
    "custom_palette = {\n",
    "    0: \"#EE6A93\",\n",
    "    1: \"#A4BB1A\"\n",
    "}\n",
    "\n",
    "top_states = df_cleaned['region'].value_counts().nlargest(10).index\n",
    "df_top = df_cleaned[df_cleaned['region'].isin(top_states)]\n",
    "df_ones = df_top[df_top['loan_status_dummy'] == 1]\n",
    "total_ones = len(df_ones)\n",
    "ones_per_region = df_ones['region'].value_counts().reindex(top_states, fill_value=0)\n",
    "percent_labels = (ones_per_region / total_ones * 100).round(1)\n",
    "sns.set(style=\"whitegrid\")\n",
    "plt.figure(figsize=(12, 6))\n",
    "ax = sns.countplot(\n",
    "    data=df_top,\n",
    "    x='region',\n",
    "    hue='loan_status_dummy',\n",
    "    order=top_states,\n",
    "    palette=custom_palette\n",
    ")\n",
    "\n",
    "num_categories = len(top_states)\n",
    "bars = ax.patches[num_categories:]\n",
    "for bar, region in zip(bars, top_states):\n",
    "    height = bar.get_height()\n",
    "    percent = percent_labels.get(region, 0)\n",
    "    ax.text(\n",
    "        bar.get_x() + bar.get_width() / 2,\n",
    "        height + 3,\n",
    "        f'{percent}%',\n",
    "        ha='center',\n",
    "        fontsize=9,\n",
    "        color='black'\n",
    "    )\n",
    "\n",
    "plt.xlabel('Region')\n",
    "plt.ylabel('Count')\n",
    "plt.title('Loan Status by Region (with % of total defaults)')\n",
    "plt.xticks(rotation=45)\n",
    "plt.tight_layout()\n",
    "plt.ylim(top=ax.get_ylim()[1] * 1.15)\n",
    "plt.legend(title='Loan Status')\n",
    "plt.show()\n"
   ]
  },
  {
   "cell_type": "code",
   "execution_count": null,
   "metadata": {},
   "outputs": [
    {
     "name": "stdout",
     "output_type": "stream",
     "text": [
      "loan_status_dummy      0     1  percent_1\n",
      "region                                   \n",
      "West               25226  3627       12.6\n",
      "South              37147  5161       12.2\n",
      "Northeast          19927  2628       11.7\n",
      "Midwest            17700  2207       11.1\n"
     ]
    }
   ],
   "source": [
    "column = 'region'\n",
    "top_n = 10\n",
    "grouped = df_cleaned.groupby(column)['loan_status_dummy'].value_counts().unstack(fill_value=0)\n",
    "grouped['percent_1'] = round(100 * grouped.get(1, 0) / (grouped.get(0, 0) + grouped.get(1, 0)), 1)\n",
    "result = grouped.sort_values(by='percent_1', ascending=False)\n",
    "print(result)"
   ]
  },
  {
   "cell_type": "markdown",
   "metadata": {},
   "source": [
    "### 2.8 Interest rate vs loan status"
   ]
  },
  {
   "cell_type": "code",
   "execution_count": 465,
   "metadata": {},
   "outputs": [
    {
     "data": {
      "image/png": "[encoded data removed]",
      "text/plain": [
       "<Figure size 1200x600 with 1 Axes>"
      ]
     },
     "metadata": {},
     "output_type": "display_data"
    }
   ],
   "source": [
    "custom_palette = {\n",
    "    0: \"#A4BB1A\",\n",
    "    1: \"#EE6A93\"\n",
    "}\n",
    "df_cleaned['int_rate_pct'] = df_cleaned['int_rate'] * 100\n",
    "bins = pd.cut(df_cleaned['int_rate_pct'], bins=10)\n",
    "labels = [\n",
    "    f\"{interval.left:.2f}–{interval.right:.2f}%\" for interval in bins.cat.categories\n",
    "]\n",
    "bin_mapping = dict(zip(bins.cat.categories, labels))\n",
    "df_cleaned['int_rate_bin'] = bins.map(bin_mapping)\n",
    "\n",
    "top_bins = df_cleaned['int_rate_bin'].value_counts().nlargest(10).index\n",
    "df_top = df_cleaned[df_cleaned['int_rate_bin'].isin(top_bins)]\n",
    "\n",
    "df_ones = df_top[df_top['loan_status_dummy'] == 1]\n",
    "total_ones = len(df_ones)\n",
    "ones_per_bin = df_ones['int_rate_bin'].value_counts().reindex(top_bins, fill_value=0)\n",
    "percent_labels = (ones_per_bin / total_ones * 100).round(1)\n",
    "\n",
    "sns.set(style=\"whitegrid\")\n",
    "plt.figure(figsize=(12, 6))\n",
    "ax = sns.countplot(\n",
    "    data=df_top,\n",
    "    x='int_rate_bin',\n",
    "    hue='loan_status_dummy',\n",
    "    order=top_bins,\n",
    "    palette=custom_palette\n",
    ")\n",
    "num_categories = len(top_bins)\n",
    "bars = ax.patches[num_categories:]\n",
    "for bar, bin_label in zip(bars, top_bins):\n",
    "    height = bar.get_height()\n",
    "    percent = percent_labels.get(bin_label, 0)\n",
    "    ax.text(\n",
    "        bar.get_x() + bar.get_width() / 2,\n",
    "        height + 3,\n",
    "        f'{percent}%',\n",
    "        ha='center',\n",
    "        fontsize=9,\n",
    "        color='black'\n",
    "    )\n",
    "\n",
    "plt.xlabel('Interest Rate (%)')\n",
    "plt.ylabel('Count')\n",
    "plt.title('Loan Status by Interest Rate (with % of total defaults)')\n",
    "plt.xticks(rotation=45)\n",
    "plt.tight_layout()\n",
    "plt.ylim(top=ax.get_ylim()[1] * 1.15)\n",
    "plt.legend(title='Loan Status')\n",
    "plt.show()\n"
   ]
  },
  {
   "cell_type": "code",
   "execution_count": 466,
   "metadata": {},
   "outputs": [
    {
     "name": "stdout",
     "output_type": "stream",
     "text": [
      "loan_status_dummy      0     1  percent_1\n",
      "int_rate_bin                             \n",
      "(25.84, 28.32]       114   144       55.8\n",
      "(23.36, 25.84]      1459   690       32.1\n",
      "(28.32, 30.8]       1085   489       31.1\n",
      "(20.88, 23.36]      2639   910       25.6\n",
      "(18.4, 20.88]       7414  1710       18.7\n",
      "(15.92, 18.4]      13239  2757       17.2\n",
      "(13.44, 15.92]     11580  2155       15.7\n",
      "(10.96, 13.44]     21978  2425        9.9\n",
      "(8.48, 10.96]      15961  1042        6.1\n",
      "(5.975, 8.48]      24531  1301        5.0\n"
     ]
    },
    {
     "name": "stderr",
     "output_type": "stream",
     "text": [
      "/var/folders/25/qdj6v0q16nj947n0zplvjg5r0000gp/T/ipykernel_10645/2870922.py:5: FutureWarning: The default of observed=False is deprecated and will be changed to True in a future version of pandas. Pass observed=False to retain current behavior or observed=True to adopt the future default and silence this warning.\n",
      "  grouped = df_cleaned.groupby('int_rate_bin')['loan_status_dummy'].value_counts().unstack(fill_value=0)\n"
     ]
    }
   ],
   "source": [
    "column = 'int_rate'\n",
    "top_n = 10\n",
    "df_cleaned['int_rate_pct'] = df_cleaned['int_rate'] * 100\n",
    "df_cleaned['int_rate_bin'] = pd.cut(df_cleaned['int_rate_pct'], bins=10)\n",
    "grouped = df_cleaned.groupby('int_rate_bin')['loan_status_dummy'].value_counts().unstack(fill_value=0)\n",
    "grouped['percent_1'] = round(100 * grouped.get(1, 0) / (grouped.get(0, 0) + grouped.get(1, 0)), 1)\n",
    "result = grouped.sort_values(by='percent_1', ascending=False)\n",
    "print(result.head(top_n))"
   ]
  },
  {
   "cell_type": "markdown",
   "metadata": {},
   "source": [
    "# 3. Logit regression."
   ]
  },
  {
   "cell_type": "code",
   "execution_count": 467,
   "metadata": {},
   "outputs": [
    {
     "name": "stdout",
     "output_type": "stream",
     "text": [
      "Columns suitable for logistic regression:\n",
      "['Unnamed: 0', 'id', 'funded_amnt', 'int_rate', 'emp_length', 'annual_inc', 'dti', 'delinq_2yrs', 'open_acc', 'pub_rec', 'revol_bal', 'last_fico_range_low', 'tot_cur_bal', 'mort_acc', 'num_actv_bc_tl', 'pct_tl_nvr_dlq', 'percent_bc_gt_75', 'total_il_high_credit_limit', 'loan_status_dummy', 'Midwest', 'Northeast', 'South', 'dept_consolidation', 'Mortgage', 'Own', 'Rent']\n"
     ]
    }
   ],
   "source": [
    "df_cleaned = pd.read_csv('cleaned_new_data.csv')\n",
    "suitable_columns = []\n",
    "\n",
    "for col in df_cleaned.columns:\n",
    "    if pd.api.types.is_numeric_dtype(df_cleaned[col]):\n",
    "        unique_vals = df_cleaned[col].dropna().unique()\n",
    "        if len(unique_vals) <= 2 and set(unique_vals).issubset({0, 1}):\n",
    "            suitable_columns.append(col)\n",
    "        elif df_cleaned[col].nunique() > 2:\n",
    "            suitable_columns.append(col)\n",
    "print(\"Columns suitable for logistic regression:\")\n",
    "print(suitable_columns)"
   ]
  },
  {
   "cell_type": "code",
   "execution_count": 468,
   "metadata": {},
   "outputs": [
    {
     "name": "stdout",
     "output_type": "stream",
     "text": [
      "Optimization terminated successfully.\n",
      "         Current function value: 0.151681\n",
      "         Iterations 9\n",
      "                           Logit Regression Results                           \n",
      "==============================================================================\n",
      "Dep. Variable:      loan_status_dummy   No. Observations:               113623\n",
      "Model:                          Logit   Df Residuals:                   113599\n",
      "Method:                           MLE   Df Model:                           23\n",
      "Date:                Mon, 05 May 2025   Pseudo R-squ.:                  0.5864\n",
      "Time:                        17:13:48   Log-Likelihood:                -17234.\n",
      "converged:                       True   LL-Null:                       -41668.\n",
      "Covariance Type:            nonrobust   LLR p-value:                     0.000\n",
      "==============================================================================================\n",
      "                                 coef    std err          z      P>|z|      [0.025      0.975]\n",
      "----------------------------------------------------------------------------------------------\n",
      "const                         20.7302      0.312     66.357      0.000      20.118      21.342\n",
      "funded_amnt                 3.178e-05   1.55e-06     20.484      0.000    2.87e-05    3.48e-05\n",
      "int_rate                       1.1477      0.299      3.842      0.000       0.562       1.733\n",
      "emp_length                    -0.0069      0.003     -2.039      0.041      -0.014      -0.000\n",
      "annual_inc                 -2.533e-07    1.5e-07     -1.692      0.091   -5.47e-07       4e-08\n",
      "dti                            0.0020      0.001      3.420      0.001       0.001       0.003\n",
      "delinq_2yrs                   -0.0412      0.020     -2.093      0.036      -0.080      -0.003\n",
      "open_acc                       0.0170      0.003      5.061      0.000       0.010       0.024\n",
      "pub_rec                        0.0997      0.041      2.441      0.015       0.020       0.180\n",
      "revol_bal                   2.148e-07   7.86e-07      0.273      0.785   -1.33e-06    1.76e-06\n",
      "last_fico_range_low           -0.0374      0.000   -133.192      0.000      -0.038      -0.037\n",
      "tot_cur_bal                -7.287e-07   1.37e-07     -5.317      0.000   -9.97e-07    -4.6e-07\n",
      "mort_acc                       0.1104      0.011     10.503      0.000       0.090       0.131\n",
      "num_actv_bc_tl                -0.1328      0.008    -16.579      0.000      -0.148      -0.117\n",
      "pct_tl_nvr_dlq                 0.0217      0.002     11.864      0.000       0.018       0.025\n",
      "percent_bc_gt_75              -0.0090      0.000    -19.316      0.000      -0.010      -0.008\n",
      "total_il_high_credit_limit -6.608e-07    3.7e-07     -1.786      0.074   -1.39e-06    6.45e-08\n",
      "Midwest                        0.0204      0.047      0.436      0.663      -0.071       0.112\n",
      "Northeast                      0.0350      0.045      0.784      0.433      -0.052       0.122\n",
      "South                          0.0020      0.038      0.053      0.958      -0.073       0.077\n",
      "dept_consolidation             0.1258      0.030      4.203      0.000       0.067       0.184\n",
      "Mortgage                      -0.5209      0.186     -2.805      0.005      -0.885      -0.157\n",
      "Own                           -0.2674      0.188     -1.424      0.154      -0.636       0.101\n",
      "Rent                          -0.7094      0.185     -3.829      0.000      -1.073      -0.346\n",
      "==============================================================================================\n"
     ]
    }
   ],
   "source": [
    "\n",
    "X = df_cleaned[['funded_amnt', 'int_rate', 'emp_length',\n",
    "              'annual_inc', 'dti', 'delinq_2yrs', 'open_acc',\n",
    "              'pub_rec', 'revol_bal', 'last_fico_range_low',\n",
    "              'tot_cur_bal', 'mort_acc', 'num_actv_bc_tl',\n",
    "              'pct_tl_nvr_dlq', 'percent_bc_gt_75', 'total_il_high_credit_limit',\n",
    "              'Midwest', 'Northeast', 'South', 'dept_consolidation',\n",
    "              'Mortgage', 'Own', 'Rent']]\n",
    "\n",
    "\n",
    "X = sm.add_constant(X)\n",
    "y = df_cleaned['loan_status_dummy']\n",
    "logit_model = sm.Logit(y, X)\n",
    "logit_model = logit_model.fit()\n",
    "print(logit_model.summary())"
   ]
  },
  {
   "cell_type": "code",
   "execution_count": 469,
   "metadata": {},
   "outputs": [
    {
     "data": {
      "image/png": "[encoded data removed]",
      "text/plain": [
       "<Figure size 500x500 with 1 Axes>"
      ]
     },
     "metadata": {},
     "output_type": "display_data"
    }
   ],
   "source": [
    "def plot_roc_curve(y_true, y_pred_prob):\n",
    "    fpr, tpr, thresholds = roc_curve(y_true, y_pred_prob)\n",
    "    auc = round(roc_auc_score(y_true=y_true, y_score=y_pred_prob), 2)\n",
    "\n",
    "    plt.figure(figsize=(5, 5))\n",
    "    plt.plot(fpr, tpr, label=f'Model (AUC = {auc})')\n",
    "    plt.plot([0, 1], [0, 1], 'r--', label='Random baseline (AUC = 0.5)')\n",
    "\n",
    "    id_x = pd.Series(abs(tpr - fpr), index=fpr).idxmax()\n",
    "    plt.axvline(x=id_x, linestyle='dashed', color='black', label='Max classifier performance')\n",
    "    id_y = pd.Series(abs(tpr - fpr), index=tpr).idxmax()\n",
    "    plt.axhline(y=id_y, linestyle='dashed', color='black')\n",
    "\n",
    "    plt.xlabel('False Positive Rate')\n",
    "    plt.ylabel('True Positive Rate')\n",
    "    plt.title('ROC Curve')\n",
    "    plt.legend(loc=(1.05, 0.6))\n",
    "    plt.xlim([0.0, 1.0])\n",
    "    plt.ylim([0.0, 1.05])\n",
    "    plt.grid()\n",
    "    plt.show()\n",
    "\n",
    "y_pred_prob = logit_model.predict(sm.add_constant(X)) \n",
    "y_true = df['loan_status_dummy']\n",
    "plot_roc_curve(y_true, y_pred_prob)"
   ]
  }
 ],
 "metadata": {
  "kernelspec": {
   "display_name": "Python 3",
   "language": "python",
   "name": "python3"
  },
  "language_info": {
   "codemirror_mode": {
    "name": "ipython",
    "version": 3
   },
   "file_extension": ".py",
   "mimetype": "text/x-python",
   "name": "python",
   "nbconvert_exporter": "python",
   "pygments_lexer": "ipython3",
   "version": "3.13.1"
  }
 },
 "nbformat": 4,
 "nbformat_minor": 2
}
